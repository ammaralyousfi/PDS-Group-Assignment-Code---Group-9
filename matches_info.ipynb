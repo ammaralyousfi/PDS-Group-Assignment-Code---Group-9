{
 "cells": [
  {
   "cell_type": "code",
   "execution_count": 1,
   "metadata": {},
   "outputs": [
    {
     "name": "stdout",
     "output_type": "stream",
     "text": [
      "Requirement already satisfied: pandas in /usr/local/lib/python3.6/site-packages (0.22.0)\n",
      "Requirement already satisfied: numpy>=1.9.0 in /usr/local/lib/python3.6/site-packages (from pandas) (1.14.0)\n",
      "Requirement already satisfied: pytz>=2011k in /usr/local/lib/python3.6/site-packages (from pandas) (2018.3)\n",
      "Requirement already satisfied: python-dateutil>=2 in /usr/local/lib/python3.6/site-packages (from pandas) (2.6.1)\n",
      "Requirement already satisfied: six>=1.5 in /usr/local/lib/python3.6/site-packages (from python-dateutil>=2->pandas) (1.11.0)\n",
      "\u001b[33mYou are using pip version 10.0.0, however version 10.0.1 is available.\n",
      "You should consider upgrading via the 'pip install --upgrade pip' command.\u001b[0m\n",
      "Requirement already satisfied: pandas in /usr/local/lib/python3.6/site-packages (0.22.0)\n",
      "Requirement already satisfied: python-dateutil>=2 in /usr/local/lib/python3.6/site-packages (from pandas) (2.6.1)\n",
      "Requirement already satisfied: pytz>=2011k in /usr/local/lib/python3.6/site-packages (from pandas) (2018.3)\n",
      "Requirement already satisfied: numpy>=1.9.0 in /usr/local/lib/python3.6/site-packages (from pandas) (1.14.0)\n",
      "Requirement already satisfied: six>=1.5 in /usr/local/lib/python3.6/site-packages (from python-dateutil>=2->pandas) (1.11.0)\n",
      "\u001b[33mYou are using pip version 10.0.0, however version 10.0.1 is available.\n",
      "You should consider upgrading via the 'pip install --upgrade pip' command.\u001b[0m\n",
      "Requirement already satisfied: unidecode in /usr/local/lib/python3.6/site-packages (1.0.22)\n",
      "\u001b[33mYou are using pip version 10.0.0, however version 10.0.1 is available.\n",
      "You should consider upgrading via the 'pip install --upgrade pip' command.\u001b[0m\n"
     ]
    }
   ],
   "source": [
    "import sys\n",
    "!{sys.executable} -m pip install pandas\n",
    "!{sys.executable} -m pip install pandas\n",
    "!{sys.executable} -m pip install unidecode"
   ]
  },
  {
   "cell_type": "code",
   "execution_count": 2,
   "metadata": {},
   "outputs": [],
   "source": [
    "import pandas\n",
    "import unidecode\n",
    "import sys"
   ]
  },
  {
   "cell_type": "code",
   "execution_count": 3,
   "metadata": {},
   "outputs": [],
   "source": [
    "colors = {\n",
    "    'black': '\\033[0;30m',\n",
    "    'black_b': '\\033[1;30m',\n",
    "    'white': '\\033[0;37m',\n",
    "    'white_b': '\\033[1;37m',\n",
    "    'red': '\\033[0;31m',\n",
    "    'red_b': '\\033[1;31m',\n",
    "    'green': '\\033[0;32m',\n",
    "    'green_b': '\\033[1;32m',\n",
    "    'yellow': '\\033[0;33m',\n",
    "    'yellow_b': '\\033[1;33m',\n",
    "    'blue': '\\033[0;34m',\n",
    "    'blue_b': '\\033[1;34m',\n",
    "    'magenta': '\\033[0;35m',\n",
    "    'magenta_b': '\\033[1;35m',\n",
    "    'cyan': '\\033[0;36m',\n",
    "    'cyan_b': '\\033[1;36m',\n",
    "    'b': '\\033[1m',\n",
    "    'reset': '\\033[0m',\n",
    "    # Erases the entire current line and moves the cursor back to the start of it\n",
    "    'erm': '\\033[2K\\r',\n",
    "}\n",
    "\n",
    "def print_in_color(text, color, bold=False, end_with_newline=True, on_same_line=False):\n",
    "    if bold:\n",
    "        color += '_b'\n",
    "    color_code = colors[color]\n",
    "    if on_same_line:\n",
    "        print('{erm}{color_code}{text}{reset_code}'.format(erm=colors['erm'], color_code=color_code, text=text,\n",
    "                                                           reset_code=colors['reset']), end='', flush=True)\n",
    "    else:\n",
    "        if end_with_newline:\n",
    "            print('{color_code}{text}{reset_code}'.format(color_code=color_code, text=text, reset_code=colors['reset']),\n",
    "                  flush=True)\n",
    "        else:\n",
    "            print('{color_code}{text}{reset_code}'.format(color_code=color_code, text=text, reset_code=colors['reset']),\n",
    "                  end='', flush=True)\n"
   ]
  },
  {
   "cell_type": "code",
   "execution_count": 4,
   "metadata": {},
   "outputs": [
    {
     "name": "stdout",
     "output_type": "stream",
     "text": [
      "\u001b[1;34mFirst team: \u001b[0maustria\n"
     ]
    }
   ],
   "source": [
    "df = pandas.read_csv('/Users/ammar/Downloads/tmp/results.csv')\n",
    "\n",
    "print_in_color('First team: ', 'blue', bold=True, end_with_newline=False)\n",
    "home_team = unidecode.unidecode(input()).lower()"
   ]
  },
  {
   "cell_type": "code",
   "execution_count": 5,
   "metadata": {},
   "outputs": [
    {
     "name": "stdout",
     "output_type": "stream",
     "text": [
      "\u001b[1;32mSecond team: \u001b[0mbrazil\n"
     ]
    }
   ],
   "source": [
    "print_in_color('Second team: ', 'green', bold=True, end_with_newline=False)\n",
    "away_team = unidecode.unidecode(input()).lower()"
   ]
  },
  {
   "cell_type": "code",
   "execution_count": 6,
   "metadata": {},
   "outputs": [],
   "source": [
    "matches = []\n",
    "\n",
    "for index, row in df.iterrows():\n",
    "    date = row['date']\n",
    "    ht = unidecode.unidecode(row['home_team']).lower()\n",
    "    at = unidecode.unidecode(row['away_team']).lower()\n",
    "    hsc = row['home_score']\n",
    "    asc = row['away_score']\n",
    "    t = unidecode.unidecode(row['tournament']).lower()\n",
    "    w = unidecode.unidecode(row['wining_team']).lower()\n",
    "    d = row['difference']\n",
    "\n",
    "    if (home_team == ht and away_team == at) or (home_team == at and away_team == ht):\n",
    "      matches.append([date, ht, at, hsc, asc, t, w, d])\n",
    "\n",
    "h_wins = len([x for x in matches if x[6] == home_team])\n",
    "h_wper = round(100 * h_wins / len(matches), 2)\n",
    "a_wins = len([x for x in matches if x[6] == away_team])\n",
    "a_wper = round(100 * a_wins / len(matches), 2)\n",
    "draw = len([x for x in matches if x[6].lower() == 'draw'])\n",
    "d_per = round(100 * draw / len(matches), 2)\n",
    "\n",
    "h_goals = sum([x[3] for x in matches])\n",
    "a_goals = sum([x[4] for x in matches])\n",
    "\n",
    "tournaments = set([x[5] for x in matches])\n"
   ]
  },
  {
   "cell_type": "code",
   "execution_count": 7,
   "metadata": {},
   "outputs": [
    {
     "name": "stdout",
     "output_type": "stream",
     "text": [
      "\u001b[0;33m\n",
      "======================================\u001b[0m\n",
      "\u001b[1;34mAustria\u001b[0m\u001b[0;30m and \u001b[0m\u001b[1;32mBrazil\u001b[0m\u001b[0;30m played \u001b[0m\u001b[1;31m9\u001b[0m\u001b[0;30m matches against each other. \u001b[0m\n",
      "\n",
      "\u001b[1;34mAustria\u001b[0m\u001b[0;30m won in \u001b[0m\u001b[1;36m0\u001b[0m\u001b[0;30m matches (\u001b[0m\u001b[1;36m0.0%\u001b[0m\u001b[0;30m).\u001b[0m\n",
      "\u001b[1;32mBrazil\u001b[0m\u001b[0;30m won in \u001b[0m\u001b[1;36m6\u001b[0m\u001b[0;30m matches (\u001b[0m\u001b[1;36m66.67%\u001b[0m\u001b[0;30m).\u001b[0m\n",
      "\u001b[1;36m3\u001b[0m\u001b[0;30m matches ended in a draw (\u001b[0m\u001b[1;36m33.33%\u001b[0m\u001b[0;30m).\u001b[0m\n",
      "\n",
      "\u001b[1;34mAustria\u001b[0m\u001b[0;30m scored \u001b[0m\u001b[1;35m6\u001b[0m\u001b[0;30m goals against \u001b[0m\u001b[1;32mBrazil.\u001b[0m\n",
      "\u001b[1;32mBrazil\u001b[0m\u001b[0;30m scored \u001b[0m\u001b[1;35m13\u001b[0m\u001b[0;30m goals against \u001b[0m\u001b[1;34mAustria\u001b[0m\n",
      "\n",
      "\u001b[0;30mThey played: \u001b[0m\n",
      "\u001b[1;34m  7 \u001b[0m\u001b[1;32mFriendly\u001b[0m\u001b[0;30m matches\u001b[0m\n",
      "\u001b[1;34m  2 \u001b[0m\u001b[1;32mFifa World Cup\u001b[0m\u001b[0;30m matches\u001b[0m\n",
      "\u001b[0;33m\n",
      "======================================\u001b[0m\n"
     ]
    }
   ],
   "source": [
    "print_in_color('\\n======================================', 'yellow', end_with_newline=True)\n",
    "\n",
    "print_in_color(home_team.title(), 'blue', bold=True, end_with_newline=False)\n",
    "print_in_color(' and ', 'black', end_with_newline=False)\n",
    "print_in_color(away_team.title(), 'green', bold=True, end_with_newline=False)\n",
    "print_in_color(' played ', 'black', end_with_newline=False)\n",
    "print_in_color(len(matches), 'red', bold=True, end_with_newline=False)\n",
    "print_in_color(' matches against each other. ', 'black', end_with_newline=True)\n",
    "\n",
    "print()\n",
    "print_in_color(home_team.title(), 'blue', bold=True, end_with_newline=False)\n",
    "print_in_color(' won in ', 'black', end_with_newline=False)\n",
    "print_in_color(str(h_wins), 'cyan', bold=True, end_with_newline=False)\n",
    "print_in_color(' matches (', 'black', end_with_newline=False)\n",
    "print_in_color(str(h_wper) + '%', 'cyan', bold=True, end_with_newline=False)\n",
    "print_in_color(').', 'black', end_with_newline=True)\n",
    "\n",
    "print_in_color(away_team.title(), 'green', bold=True, end_with_newline=False)\n",
    "print_in_color(' won in ', 'black', end_with_newline=False)\n",
    "print_in_color(str(a_wins), 'cyan', bold=True, end_with_newline=False)\n",
    "print_in_color(' matches (', 'black', end_with_newline=False)\n",
    "print_in_color(str(a_wper) + '%', 'cyan', bold=True, end_with_newline=False)\n",
    "print_in_color(').', 'black', end_with_newline=True)\n",
    "\n",
    "print_in_color(str(draw), 'cyan', bold=True, end_with_newline=False)\n",
    "print_in_color(' matches ended in a draw (', 'black', end_with_newline=False)\n",
    "print_in_color(str(d_per) + '%', 'cyan', bold=True, end_with_newline=False)\n",
    "print_in_color(').', 'black', end_with_newline=True)\n",
    "\n",
    "print()\n",
    "print_in_color(home_team.title(), 'blue', bold=True, end_with_newline=False)\n",
    "print_in_color(' scored ', 'black', end_with_newline=False)\n",
    "print_in_color(h_goals, 'magenta', bold=True, end_with_newline=False)\n",
    "print_in_color(' goals against ', 'black', end_with_newline=False)\n",
    "print_in_color(away_team.title() + '.', 'green', bold=True, end_with_newline=True)\n",
    "\n",
    "print_in_color(away_team.title(), 'green', bold=True, end_with_newline=False)\n",
    "print_in_color(' scored ', 'black', end_with_newline=False)\n",
    "print_in_color(a_goals, 'magenta', bold=True, end_with_newline=False)\n",
    "print_in_color(' goals against ', 'black', end_with_newline=False)\n",
    "print_in_color(home_team.title(), 'blue', bold=True, end_with_newline=True)\n",
    "\n",
    "\n",
    "\n",
    "print()\n",
    "print_in_color('They played: ', 'black', end_with_newline=True)\n",
    "for t in tournaments:\n",
    "  c = len([x for x in matches if x[5] == t])\n",
    "  print_in_color('  ' + str(c) + ' ', 'blue', bold=True, end_with_newline=False)\n",
    "  print_in_color(t.title(), 'green', bold=True, end_with_newline=False)  \n",
    "  print_in_color(' matches', 'black', end_with_newline=True)\n",
    "  \n",
    "print_in_color('\\n======================================', 'yellow', end_with_newline=True)\n",
    "\n",
    "  \n",
    "\n",
    "\n"
   ]
  },
  {
   "cell_type": "code",
   "execution_count": null,
   "metadata": {},
   "outputs": [],
   "source": []
  }
 ],
 "metadata": {
  "kernelspec": {
   "display_name": "Python 3",
   "language": "python",
   "name": "python3"
  },
  "language_info": {
   "codemirror_mode": {
    "name": "ipython",
    "version": 3
   },
   "file_extension": ".py",
   "mimetype": "text/x-python",
   "name": "python",
   "nbconvert_exporter": "python",
   "pygments_lexer": "ipython3",
   "version": "3.6.4"
  }
 },
 "nbformat": 4,
 "nbformat_minor": 2
}
